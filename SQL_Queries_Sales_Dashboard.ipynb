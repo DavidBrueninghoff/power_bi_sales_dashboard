{
  "cells": [
    {
      "cell_type": "markdown",
      "metadata": {
        "id": "dfYepHxA9H28"
      },
      "source": [
        "## SQL Queries for Sales Dashboard"
      ]
    },
    {
      "cell_type": "code",
      "source": [
        "EDA:\n",
        "\n",
        "# Looking at the transactions table\n",
        "SELECT * \n",
        "FROM sales.transactions;\n",
        "\n",
        "# How many transactions do we have ?\n",
        "SELECT count(*) \n",
        "FROM sales.transactions;\n",
        "\n",
        "# How many customers do we have ?\n",
        "SELECT count(*) \n",
        "FROM sales.customers;\n",
        "\n",
        "# Only showing the transactions from Chemnai (code: Mark001)\n",
        "SELECT * \n",
        "FROM sales.transactions \n",
        "WHERE market_code=\"Mark001\";\n",
        "\n",
        "# How many transactions where performed in Chemnai ? \n",
        "SELECT count(*) \n",
        "FROM sales.transactions \n",
        "WHERE market_code=\"Mark001\";\n",
        "\n",
        "# How many transaction were performed with USD ? \n",
        "SELECT count(*) \n",
        "FROM sales.transactions \n",
        "WHERE currency=\"USD\";\n",
        "\n",
        "# How many transaction were performed in 2020 ? \n",
        "SELECT sales.transactions.*, sales.date.* \n",
        "FROM sales.transactions INNER JOIN sales.date ON sales.transactions.order_date=sales.date.date\n",
        "WHERE sales.date.year = 2020;\n",
        "\n",
        "# What is the total sales amount of the year 2020 ?\n",
        "SELECT SUM(sales.transactions.sales_amount)\n",
        "FROM sales.transactions INNER JOIN sales.date ON sales.transactions.order_date=sales.date.date\n",
        "WHERE sales.date.year = 2020;\n",
        "\n",
        "#Show total revenue in year 2020 How many transactions were performed in January 2020 ?\n",
        "SELECT SUM(sales.transactions.sales_amount)\n",
        "FROM sales.transactions INNER JOIN sales.date ON sales.transactions.order_date=sales.date.date\n",
        "WHERE sales.date.year = 2020 AND sales.date.month_name=\"January\";\n",
        "\n",
        "\n",
        "# How many transactions were performed in Chemnai in the year 2020 ?\n",
        "SELECT SUM(sales.transactions.sales_amount)\n",
        "FROM sales.transactions INNER JOIN sales.date ON sales.transactions.order_date=sales.date.date\n",
        "WHERE sales.date.year = 2020 AND sales.transactions.market_code=\"Mark001\";\n",
        "\n",
        "# See which distinct products we have sold in Chemnai ?\n",
        "SELECT DISTINCT product_code \n",
        "FROM sales.transactions\n",
        "WHERE market_code=\"Mark001\";"
      ],
      "metadata": {
        "id": "mSR7LutuAFHt"
      },
      "execution_count": null,
      "outputs": []
    },
    {
      "cell_type": "markdown",
      "source": [
        "After publishing the Version 1 of our Sales Insights Dashboard, I got feedback from the stakeholders. Based on their feedback, I had to adjust the dashboard into a Version 2.\n",
        "\n",
        "Their feedback:\n",
        "\n",
        "1. We should use \"contextual filtering\" for top 5 customers and products, because when we filter for different locations, the dashboard shows only 2-3 customers/products (no business done in this location).\n",
        "2. We should add product cost and margin into our SQL database and dashboard for better insights and analysis.\n",
        "3. Breakdown of sales for brick and mortar and e-commerce stores.\n",
        "\n",
        "- Changes will be visualized in Version V2 of the dashboard."
      ],
      "metadata": {
        "id": "K5GGVS9RFjxW"
      }
    }
  ],
  "metadata": {
    "interpreter": {
      "hash": "167c1561c174e91518859240caf65cbf556e74a4dcd18fddf53afddc95ecd2f9"
    },
    "kernelspec": {
      "display_name": "Python 3",
      "language": "python",
      "name": "python3"
    },
    "language_info": {
      "codemirror_mode": {
        "name": "ipython",
        "version": 3
      },
      "file_extension": ".py",
      "mimetype": "text/x-python",
      "name": "python",
      "nbconvert_exporter": "python",
      "pygments_lexer": "ipython3",
      "version": "3.8.10"
    },
    "colab": {
      "provenance": []
    }
  },
  "nbformat": 4,
  "nbformat_minor": 0
}